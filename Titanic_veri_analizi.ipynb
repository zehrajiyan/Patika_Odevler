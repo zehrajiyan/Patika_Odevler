{
  "metadata": {
    "kernelspec": {
      "name": "python",
      "display_name": "Python (Pyodide)",
      "language": "python"
    },
    "language_info": {
      "codemirror_mode": {
        "name": "python",
        "version": 3
      },
      "file_extension": ".py",
      "mimetype": "text/x-python",
      "name": "python",
      "nbconvert_exporter": "python",
      "pygments_lexer": "ipython3",
      "version": "3.8"
    }
  },
  "nbformat_minor": 5,
  "nbformat": 4,
  "cells": [
    {
      "id": "ab8b1c6d-7b75-4fe3-8a7c-b372bbb75fd0",
      "cell_type": "code",
      "source": "import pandas as pd\ndf_titanic = pd.read_csv(\"train.csv\")\ndf_titanic.head()",
      "metadata": {
        "trusted": true,
        "scrolled": true
      },
      "outputs": [
        {
          "execution_count": 3,
          "output_type": "execute_result",
          "data": {
            "text/plain": "   PassengerId  Survived  Pclass  \\\n0            1         0       3   \n1            2         1       1   \n2            3         1       3   \n3            4         1       1   \n4            5         0       3   \n\n                                                Name     Sex   Age  SibSp  \\\n0                            Braund, Mr. Owen Harris    male  22.0      1   \n1  Cumings, Mrs. John Bradley (Florence Briggs Th...  female  38.0      1   \n2                             Heikkinen, Miss. Laina  female  26.0      0   \n3       Futrelle, Mrs. Jacques Heath (Lily May Peel)  female  35.0      1   \n4                           Allen, Mr. William Henry    male  35.0      0   \n\n   Parch            Ticket     Fare Cabin Embarked  \n0      0         A/5 21171   7.2500   NaN        S  \n1      0          PC 17599  71.2833   C85        C  \n2      0  STON/O2. 3101282   7.9250   NaN        S  \n3      0            113803  53.1000  C123        S  \n4      0            373450   8.0500   NaN        S  ",
            "text/html": "<div>\n<style scoped>\n    .dataframe tbody tr th:only-of-type {\n        vertical-align: middle;\n    }\n\n    .dataframe tbody tr th {\n        vertical-align: top;\n    }\n\n    .dataframe thead th {\n        text-align: right;\n    }\n</style>\n<table border=\"1\" class=\"dataframe\">\n  <thead>\n    <tr style=\"text-align: right;\">\n      <th></th>\n      <th>PassengerId</th>\n      <th>Survived</th>\n      <th>Pclass</th>\n      <th>Name</th>\n      <th>Sex</th>\n      <th>Age</th>\n      <th>SibSp</th>\n      <th>Parch</th>\n      <th>Ticket</th>\n      <th>Fare</th>\n      <th>Cabin</th>\n      <th>Embarked</th>\n    </tr>\n  </thead>\n  <tbody>\n    <tr>\n      <th>0</th>\n      <td>1</td>\n      <td>0</td>\n      <td>3</td>\n      <td>Braund, Mr. Owen Harris</td>\n      <td>male</td>\n      <td>22.0</td>\n      <td>1</td>\n      <td>0</td>\n      <td>A/5 21171</td>\n      <td>7.2500</td>\n      <td>NaN</td>\n      <td>S</td>\n    </tr>\n    <tr>\n      <th>1</th>\n      <td>2</td>\n      <td>1</td>\n      <td>1</td>\n      <td>Cumings, Mrs. John Bradley (Florence Briggs Th...</td>\n      <td>female</td>\n      <td>38.0</td>\n      <td>1</td>\n      <td>0</td>\n      <td>PC 17599</td>\n      <td>71.2833</td>\n      <td>C85</td>\n      <td>C</td>\n    </tr>\n    <tr>\n      <th>2</th>\n      <td>3</td>\n      <td>1</td>\n      <td>3</td>\n      <td>Heikkinen, Miss. Laina</td>\n      <td>female</td>\n      <td>26.0</td>\n      <td>0</td>\n      <td>0</td>\n      <td>STON/O2. 3101282</td>\n      <td>7.9250</td>\n      <td>NaN</td>\n      <td>S</td>\n    </tr>\n    <tr>\n      <th>3</th>\n      <td>4</td>\n      <td>1</td>\n      <td>1</td>\n      <td>Futrelle, Mrs. Jacques Heath (Lily May Peel)</td>\n      <td>female</td>\n      <td>35.0</td>\n      <td>1</td>\n      <td>0</td>\n      <td>113803</td>\n      <td>53.1000</td>\n      <td>C123</td>\n      <td>S</td>\n    </tr>\n    <tr>\n      <th>4</th>\n      <td>5</td>\n      <td>0</td>\n      <td>3</td>\n      <td>Allen, Mr. William Henry</td>\n      <td>male</td>\n      <td>35.0</td>\n      <td>0</td>\n      <td>0</td>\n      <td>373450</td>\n      <td>8.0500</td>\n      <td>NaN</td>\n      <td>S</td>\n    </tr>\n  </tbody>\n</table>\n</div>"
          },
          "metadata": {}
        }
      ],
      "execution_count": 3
    },
    {
      "id": "0e7bf87e-37df-424b-8cf7-663e6caaa6cd",
      "cell_type": "code",
      "source": "# 1- KAZADA ÖLENLERİN YAŞ ORTALAMASINI BULUNUZ",
      "metadata": {
        "trusted": true
      },
      "outputs": [],
      "execution_count": null
    },
    {
      "id": "b127fc93-03d2-463b-822a-87b6346a15ea",
      "cell_type": "code",
      "source": "print(f'Kazada ölenlerin yaş ortalaması: {df_titanic[df_titanic['Survived']==0]['Age'].mean():.2f}')",
      "metadata": {
        "trusted": true
      },
      "outputs": [
        {
          "name": "stdout",
          "output_type": "stream",
          "text": "Kazada ölenlerin yaş ortalaması: 30.63\n"
        }
      ],
      "execution_count": 11
    },
    {
      "id": "2673dcf4-686e-4ab6-a56e-8268822061af",
      "cell_type": "code",
      "source": "# 2- KAZADA ÖLENLERİN BİLET FİYATLARININ ORTALAMASINI VE MEDYANINI BULUNUZ",
      "metadata": {
        "trusted": true
      },
      "outputs": [],
      "execution_count": null
    },
    {
      "id": "ea8b8335-84d1-4b92-a8b0-6bf2b610aac8",
      "cell_type": "code",
      "source": "deaths_mean = df_titanic[df_titanic['Survived']==0]['Fare'].mean()\ndeaths_median = df_titanic[df_titanic['Survived']==0]['Fare'].median()\n\nprint(f'Bilet fiyatının ortalaması:{ deaths_mean:.2f}, Medyanı: {deaths_median:.2f}')",
      "metadata": {
        "trusted": true
      },
      "outputs": [
        {
          "name": "stdout",
          "output_type": "stream",
          "text": "Bilet fiyatının ortalaması:22.12, Medyanı: 10.50\n"
        }
      ],
      "execution_count": 10
    },
    {
      "id": "3bca9e47-dbc2-4a9c-94af-8f3e865e6bda",
      "cell_type": "code",
      "source": "# 3- ÖLEN ERKEKLERİN YAŞ ORTALAMASI",
      "metadata": {
        "trusted": true
      },
      "outputs": [],
      "execution_count": null
    },
    {
      "id": "6269e726-831e-47ce-a09e-f3ff91b76eb2",
      "cell_type": "code",
      "source": "men_age_avg = df_titanic[(df_titanic[\"Survived\"] == 0) & (df_titanic[\"Sex\"] == \"male\")][\"Age\"].mean()\nprint(f'Kazada ölen erkeklerin yaş ortalaması: {men_age_avg:.2f}')",
      "metadata": {
        "trusted": true
      },
      "outputs": [
        {
          "name": "stdout",
          "output_type": "stream",
          "text": "Kazada ölen erkeklerin yaş ortalaması: 31.62\n"
        }
      ],
      "execution_count": 12
    },
    {
      "id": "0131da2c-8977-4207-992c-c43e344fe5a6",
      "cell_type": "code",
      "source": "# 4- ÖLEN KADINLARIN YAŞ ORTALAMASI",
      "metadata": {
        "trusted": true
      },
      "outputs": [],
      "execution_count": null
    },
    {
      "id": "023c110f-1d9f-4a93-9a78-577f5ac52543",
      "cell_type": "code",
      "source": "women_age_avg = df_titanic[(df_titanic[\"Survived\"] == 0) & (df_titanic[\"Sex\"] == \"female\")][\"Age\"].mean()\nprint(f'Kazada ölen erkeklerin yaş ortalaması: {women_age_avg:.2f}')",
      "metadata": {
        "trusted": true
      },
      "outputs": [
        {
          "name": "stdout",
          "output_type": "stream",
          "text": "Kazada ölen erkeklerin yaş ortalaması: 25.05\n"
        }
      ],
      "execution_count": 13
    },
    {
      "id": "689339c8-581d-47ec-9f68-6fc7ff4ce223",
      "cell_type": "code",
      "source": "# 5- KURTULANLARIN YAŞ ORTALAMASI",
      "metadata": {
        "trusted": true
      },
      "outputs": [],
      "execution_count": null
    },
    {
      "id": "a3444dc9-9d0f-444f-a447-0b5217afe38c",
      "cell_type": "code",
      "source": "survived_avg = df_titanic[df_titanic[\"Survived\"] == 1][\"Age\"].mean()\nprint(f'Kazadan kurtulanların yaş ortalaması: {survived_avg:.2f}')",
      "metadata": {
        "trusted": true
      },
      "outputs": [
        {
          "name": "stdout",
          "output_type": "stream",
          "text": "Kazadan kurtulanların yaş ortalaması: 28.34\n"
        }
      ],
      "execution_count": 15
    },
    {
      "id": "83cb23e5-aeb0-4541-9e49-82d6dc98ec43",
      "cell_type": "code",
      "source": "# 6- KURTULANLARIN BİLET FİYATI ORTALAMASI",
      "metadata": {
        "trusted": true
      },
      "outputs": [],
      "execution_count": null
    },
    {
      "id": "e6ee158d-72dd-4b2e-873c-02bccca18acc",
      "cell_type": "code",
      "source": "fare_survived_avg = df_titanic[df_titanic[\"Survived\"] == 1][\"Fare\"].mean()\nprint(f\"Kurtulanların bilet fiyatı ortalaması: {fare_survived_avg:.2f}\")",
      "metadata": {
        "trusted": true
      },
      "outputs": [
        {
          "name": "stdout",
          "output_type": "stream",
          "text": "Kurtulanların bilet fiyatı ortalaması: 48.40\n"
        }
      ],
      "execution_count": 16
    },
    {
      "id": "095daf03-7c16-4277-9bfe-15dcf6109c64",
      "cell_type": "code",
      "source": "# 7- KURTULAN KİŞİ SAYISI",
      "metadata": {
        "trusted": true
      },
      "outputs": [],
      "execution_count": null
    },
    {
      "id": "b3795277-b049-4669-96d7-61c33dcbb10a",
      "cell_type": "code",
      "source": "survived_count = len(df_titanic[df_titanic[\"Survived\"] == 1])\nprint(f\"Kazadan kurtulan toplam kişi sayısı: {survived_count}\")",
      "metadata": {
        "trusted": true
      },
      "outputs": [
        {
          "name": "stdout",
          "output_type": "stream",
          "text": "Kazadan kurtulan toplam kişi sayısı: 342\n"
        }
      ],
      "execution_count": 17
    },
    {
      "id": "49dc8896-4f91-436b-b702-e05c82f9730b",
      "cell_type": "code",
      "source": "# 8- 10 YAŞINDAN KÜÇÜKLERİN BİLET FİYATI MEDYANI",
      "metadata": {
        "trusted": true
      },
      "outputs": [],
      "execution_count": null
    },
    {
      "id": "de4373d5-ec7c-4671-b1c1-c430b6d51ea6",
      "cell_type": "code",
      "source": "under_ten_years_fare_median = df_titanic[df_titanic[\"Age\"] < 10][\"Fare\"].median()\nprint(f\"10 yaşından küçüklerin bilet fiyatı medyanı: {under_ten_years_fare_median:.2f}\")",
      "metadata": {
        "trusted": true
      },
      "outputs": [
        {
          "name": "stdout",
          "output_type": "stream",
          "text": "10 yaşından küçüklerin bilet fiyatı medyanı: 27.00\n"
        }
      ],
      "execution_count": 18
    },
    {
      "id": "fd2e3c4d-3d77-4d5b-8d01-f1047a37857c",
      "cell_type": "code",
      "source": "# 9- HER SINIFIN BİLET FİYATI ORTALAMA VE MEDYANI",
      "metadata": {
        "trusted": true
      },
      "outputs": [],
      "execution_count": null
    },
    {
      "id": "c6b53899-007e-4299-aa2f-07967fecc7ac",
      "cell_type": "code",
      "source": "pclass_fare_stats = df_titanic.groupby(\"Pclass\")[\"Fare\"].agg([\"mean\", \"median\"])\nprint(\"1, 2, 3. sınıf bilet fiyatı ortalama ve medyanları:\\n\", pclass_fare_stats.round(2))",
      "metadata": {
        "trusted": true
      },
      "outputs": [
        {
          "name": "stdout",
          "output_type": "stream",
          "text": "1, 2, 3. sınıf bilet fiyatı ortalama ve medyanları:\n          mean  median\nPclass               \n1       84.15   60.29\n2       20.66   14.25\n3       13.68    8.05\n"
        }
      ],
      "execution_count": 19
    },
    {
      "id": "580b56e5-e8f2-4417-ae02-06f0d9ae1020",
      "cell_type": "code",
      "source": "# 10- CİNSİYETE GÖRE ÖLÜM ORANI KARŞILAŞTIRMASI",
      "metadata": {
        "trusted": true
      },
      "outputs": [],
      "execution_count": null
    },
    {
      "id": "cb008115-e7c1-479f-9713-68cc547639a7",
      "cell_type": "code",
      "source": "men = df_titanic[df_titanic[\"Sex\"] == \"male\"]\nwomen = df_titanic[df_titanic[\"Sex\"] == \"female\"]\n\ndead_men_ratio = len(men[men[\"Survived\"] == 0]) / len(men)\ndead_women_ratio = len(women[women[\"Survived\"] == 0]) / len(women)\n\nprint(f\"Kazada ölen erkeklerin oranı: {dead_men_ratio:.2%}\")\nprint(f\"Kazada ölen kadınların oranı: {dead_women_ratio:.2%}\")",
      "metadata": {
        "trusted": true
      },
      "outputs": [
        {
          "name": "stdout",
          "output_type": "stream",
          "text": "Kazada ölen erkeklerin oranı: 81.11%\nKazada ölen kadınların oranı: 25.80%\n"
        }
      ],
      "execution_count": 20
    },
    {
      "id": "bdc0379c-5136-4878-9dea-cfdb13c5e82e",
      "cell_type": "code",
      "source": "",
      "metadata": {
        "trusted": true
      },
      "outputs": [],
      "execution_count": null
    }
  ]
}